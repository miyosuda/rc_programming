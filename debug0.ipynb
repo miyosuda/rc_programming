{
 "cells": [
  {
   "cell_type": "markdown",
   "id": "94d8dad3-ad02-4c68-b169-a2b1191ec0c2",
   "metadata": {},
   "source": [
    "## concrete valueを最初から利用するver."
   ]
  },
  {
   "cell_type": "code",
   "execution_count": 173,
   "id": "75f8248e-7fe0-4ced-842b-90b55ac7ca84",
   "metadata": {},
   "outputs": [],
   "source": [
    "import sympy as sm\n",
    "import numpy as np\n",
    "import itertools"
   ]
  },
  {
   "cell_type": "code",
   "execution_count": 174,
   "id": "7d442dc3-ca76-43ec-8a73-2cb7e4bf00ba",
   "metadata": {},
   "outputs": [],
   "source": [
    "sm.init_printing()"
   ]
  },
  {
   "cell_type": "code",
   "execution_count": 175,
   "id": "0a79dcb8-e736-4ad5-866d-e9b6816900d3",
   "metadata": {},
   "outputs": [],
   "source": [
    "def g(x):\n",
    "    return sm.tanh(x)\n",
    "\n",
    "def dg(x):\n",
    "    return 1 - sm.tanh(x) * sm.tanh(x)\n",
    "\n",
    "def ddg(x):\n",
    "    return 2 * (sm.tanh(x) * sm.tanh(x) - 1) * sm.tanh(x)"
   ]
  },
  {
   "cell_type": "code",
   "execution_count": 184,
   "id": "2481a64f-1138-4b21-9bc4-d51b78467b66",
   "metadata": {},
   "outputs": [],
   "source": [
    "# https://stackoverflow.com/questions/22857162/multivariate-taylor-approximation-in-sympy\n",
    "\n",
    "def mv_series(function_expression, \n",
    "              variable_list, \n",
    "              evaluation_point, \n",
    "              degree):\n",
    "    \n",
    "    n_var = len(variable_list)\n",
    "    \n",
    "    # list of tuples with variables and their evaluation_point coordinates, ready for the subs() method\n",
    "    point_coordinates = [(i, j) for i, j in (zip(variable_list, evaluation_point))]\n",
    "    \n",
    "    # list with exponents of the partial derivatives\n",
    "    deriv_orders = list(itertools.product(range(degree + 1), repeat=n_var))\n",
    "    \n",
    "    # Discarding some higher-order terms\n",
    "    deriv_orders = [deriv_orders[i] for i in range(len(deriv_orders)) if sum(deriv_orders[i]) <= degree]\n",
    "    n_terms = len(deriv_orders)\n",
    "    \n",
    "    # same as before, but now ready for the diff() method\n",
    "    deriv_orders_as_input = [list(sum(list(zip(variable_list, deriv_orders[i])), ())) for i in range(n_terms)]\n",
    "    \n",
    "    polynomial = 0\n",
    "    for i in range(n_terms):\n",
    "        partial_derivatives_at_point = function_expression.diff(*deriv_orders_as_input[i]).subs(point_coordinates)\n",
    "        # e.g. df/(dx*dy**2) evaluated at (x0,y0)\n",
    "        \n",
    "        denominator = sm.prod([sm.factorial(j) for j in deriv_orders[i]])\n",
    "        # e.g. (1! * 2!)\n",
    "        \n",
    "        distances_powered = sm.prod([(sm.Matrix(variable_list) - sm.Matrix(evaluation_point))[j] ** deriv_orders[i][j] for j in range(n_var)])  \n",
    "        # e.g. (x-x0)*(y-y0)**2\n",
    "        \n",
    "        polynomial += partial_derivatives_at_point / denominator * distances_powered\n",
    "    return polynomial\n"
   ]
  },
  {
   "cell_type": "code",
   "execution_count": 185,
   "id": "0aee2071-dd00-41f9-84cf-1c6c4600891b",
   "metadata": {},
   "outputs": [],
   "source": [
    "x_dim = 3\n",
    "r_dim = 4\n",
    "#r_dim = 64\n",
    "#r_dim = 100\n"
   ]
  },
  {
   "cell_type": "code",
   "execution_count": 186,
   "id": "06167ac3-b361-4317-a9ee-c09fd2dc9755",
   "metadata": {},
   "outputs": [],
   "source": [
    "# Symbols\n",
    "x       = sm.MatrixSymbol('x', x_dim, 1)\n",
    "x_dot   = sm.MatrixSymbol('\\dot{x}', x_dim, 1)"
   ]
  },
  {
   "cell_type": "code",
   "execution_count": 187,
   "id": "fe87f91e-702d-4112-9fae-23431fa9d6e9",
   "metadata": {},
   "outputs": [
    {
     "name": "stdout",
     "output_type": "stream",
     "text": [
      "A_scale=inf\n"
     ]
    },
    {
     "name": "stderr",
     "output_type": "stream",
     "text": [
      "/var/folders/g8/lw05g79s3yv331w4vf305fkh0000gn/T/ipykernel_48825/1373796577.py:4: RuntimeWarning: divide by zero encountered in double_scalars\n",
      "  return rho / cur_spectral_radius\n"
     ]
    }
   ],
   "source": [
    "# Concrete values\n",
    "def calc_scale_with_spectral_radius(mat, rho):\n",
    "    cur_spectral_radius = max(abs(np.linalg.eigvals(mat)))\n",
    "    return rho / cur_spectral_radius\n",
    "\n",
    "rng = np.random.RandomState(0)\n",
    "\n",
    "r_s_c = sm.Matrix(rng.uniform(low=-0.5, high=0.5, size=(r_dim, 1)))\n",
    "\n",
    "x_s_c = sm.Matrix(np.zeros((x_dim, 1)))\n",
    "\n",
    "B_scale = 0.1\n",
    "B_np = rng.uniform(low=-1.0, high=1.0, size=(r_dim, x_dim)) * B_scale\n",
    "\n",
    "B_c = sm.Matrix(B_np)\n",
    "\n",
    "A_np = rng.uniform(low=-1.0, high=1.0, size=(r_dim, r_dim))\n",
    "sparsify = np.vectorize(lambda v: v if rng.random() < 0.05 else 0.0)\n",
    "A_np = sparsify(A_np)\n",
    "\n",
    "rho = 0.01\n",
    "A_scale = calc_scale_with_spectral_radius(A_np, rho)\n",
    "print(f'A_scale={A_scale}')\n",
    "#A_np = A_np * A_scale\n",
    "\n",
    "# TODO: 最適化可能\n",
    "\n",
    "A_c = sm.Matrix(A_np)\n",
    "\n",
    "d_c       = sm.Matrix(np.zeros((r_dim, 1)))\n",
    "d_s_c     = A_c * r_s_c + d_c\n",
    "\n",
    "ArBxd_c = A_c * r_s_c + B_c * x_s_c + d_s_c\n",
    "# 要素積のためにshapeを合わせておく\n",
    "ArBxd_c_rep = sm.Matrix.hstack(*[ArBxd_c for _ in range(r_dim)])\n",
    "\n",
    "A_s_c = sm.hadamard_product(ArBxd_c_rep.applyfunc(dg), A_c) - sm.eye(r_dim)\n",
    "A_s_inv_c = A_s_c ** -1\n",
    "\n",
    "gamma_c = 100"
   ]
  },
  {
   "cell_type": "code",
   "execution_count": 188,
   "id": "570aa002-f75a-4e52-b6a6-fdb68c865e78",
   "metadata": {},
   "outputs": [],
   "source": [
    "B       = B_c\n",
    "d_s     = d_s_c\n",
    "r_s     = r_s_c\n",
    "A_s_inv = A_s_inv_c\n",
    "A       = A_c\n",
    "gamma   = gamma_c"
   ]
  },
  {
   "cell_type": "code",
   "execution_count": 189,
   "id": "30562abc-2575-481f-825f-bc9f2f15bc0a",
   "metadata": {},
   "outputs": [],
   "source": [
    "expr0 = sm.hadamard_product((B * x + d_s).applyfunc(dg), A * r_s)\n",
    "expr1 = (B * x + d_s).applyfunc(g)\n",
    "expr2 = sm.hadamard_product((B * x + d_s).applyfunc(ddg), A * r_s)\n",
    "expr3 = (B * x + d_s).applyfunc(dg)\n",
    "\n",
    "expr2_3 = sm.hadamard_product(expr2 - expr3, B * x_dot)\n",
    "\n",
    "expr = A_s_inv * (expr0 - expr1) + (1 / gamma) * (A_s_inv ** 2) * expr2_3\n",
    "\n",
    "xs = [x[i,0] for i in range(x_dim)]\n",
    "x_dots = [x_dot[i,0] for i in range(x_dim)]\n",
    "\n",
    "x_zero = [0] * x_dim\n",
    "x_dot_zero = [0] * x_dim\n",
    "\n",
    "degree = 2"
   ]
  },
  {
   "cell_type": "code",
   "execution_count": 190,
   "id": "a52bb465-a7d2-478c-ba75-2cc14a54c340",
   "metadata": {},
   "outputs": [
    {
     "data": {
      "image/png": "[encoded data removed]",
      "text/latex": [
       "$\\displaystyle \\left[ \\dot{x}_{0, 0}, \\  \\dot{x}_{1, 0}, \\  \\dot{x}_{2, 0}\\right]$"
      ],
      "text/plain": [
       "[\\dot{x}₀₀, \\dot{x}₁₀, \\dot{x}₂₀]"
      ]
     },
     "execution_count": 190,
     "metadata": {},
     "output_type": "execute_result"
    }
   ],
   "source": [
    "x_dots"
   ]
  },
  {
   "cell_type": "code",
   "execution_count": 191,
   "id": "bb77c75e-4d63-4723-be63-d5cf34d541e9",
   "metadata": {
    "tags": []
   },
   "outputs": [
    {
     "name": "stdout",
     "output_type": "stream",
     "text": [
      "0\n",
      "1\n",
      "2\n",
      "3\n",
      "CPU times: user 1.49 s, sys: 6.9 ms, total: 1.5 s\n",
      "Wall time: 1.49 s\n"
     ]
    }
   ],
   "source": [
    "%%time\n",
    "\n",
    "coeff_dicts = []\n",
    "\n",
    "for r_index in range(r_dim):\n",
    "    r_ex = mv_series(expr[r_index,0], \n",
    "                     xs + x_dots, \n",
    "                     x_zero + x_dot_zero, degree)\n",
    "              \n",
    "    p_c = sm.poly(r_ex, xs + x_dots).as_poly()\n",
    "    coeff_dicts.append(p_c.as_dict())\n",
    "    \n",
    "    print(r_index)\n",
    "    #..\n",
    "    #break\n",
    "    #.."
   ]
  },
  {
   "cell_type": "code",
   "execution_count": 192,
   "id": "394fa2cc-0b56-4b06-b550-a1a5fd8f8ab3",
   "metadata": {},
   "outputs": [
    {
     "data": {
      "image/png": "[encoded data removed]",
      "text/latex": [
       "$\\displaystyle \\left[ \\left\\{ \\left( 0, \\  0, \\  0, \\  0, \\  0, \\  0\\right) : 0.0019240475738571, \\  \\left( 0, \\  0, \\  0, \\  0, \\  0, \\  1\\right) : 0.000413341732326764, \\  \\left( 0, \\  0, \\  0, \\  0, \\  1, \\  0\\right) : -0.00143546107993353, \\  \\left( 0, \\  0, \\  0, \\  1, \\  0, \\  0\\right) : -0.000805806308214608, \\  \\left( 0, \\  0, \\  1, \\  0, \\  0, \\  0\\right) : -0.0270311237029534, \\  \\left( 0, \\  0, \\  1, \\  0, \\  0, \\  1\\right) : 2.35468193349544 \\cdot 10^{-8}, \\  \\left( 0, \\  0, \\  1, \\  0, \\  1, \\  0\\right) : -5.50422820693557 \\cdot 10^{-8}, \\  \\left( 0, \\  0, \\  1, \\  1, \\  0, \\  0\\right) : 2.88031777369224 \\cdot 10^{-8}, \\  \\left( 0, \\  0, \\  2, \\  0, \\  0, \\  0\\right) : -1.17734096674772 \\cdot 10^{-6}, \\  \\left( 0, \\  1, \\  0, \\  0, \\  0, \\  0\\right) : 0.0866494209249828, \\  \\left( 0, \\  1, \\  0, \\  0, \\  0, \\  1\\right) : -5.50422820693554 \\cdot 10^{-8}, \\  \\left( 0, \\  1, \\  0, \\  0, \\  1, \\  0\\right) : 1.28665055449976 \\cdot 10^{-7}, \\  \\left( 0, \\  1, \\  0, \\  1, \\  0, \\  0\\right) : -6.73293751880963 \\cdot 10^{-8}, \\  \\left( 0, \\  1, \\  1, \\  0, \\  0, \\  0\\right) : 5.50422820693553 \\cdot 10^{-6}, \\  \\left( 0, \\  2, \\  0, \\  0, \\  0, \\  0\\right) : -6.43325277249881 \\cdot 10^{-6}, \\  \\left( 1, \\  0, \\  0, \\  0, \\  0, \\  0\\right) : 0.032505633805855, \\  \\left( 1, \\  0, \\  0, \\  0, \\  0, \\  1\\right) : 2.88031777369223 \\cdot 10^{-8}, \\  \\left( 1, \\  0, \\  0, \\  0, \\  1, \\  0\\right) : -6.73293751880963 \\cdot 10^{-8}, \\  \\left( 1, \\  0, \\  0, \\  1, \\  0, \\  0\\right) : 3.5232913453971 \\cdot 10^{-8}, \\  \\left( 1, \\  0, \\  1, \\  0, \\  0, \\  0\\right) : -2.88031777369224 \\cdot 10^{-6}, \\  \\left( 1, \\  1, \\  0, \\  0, \\  0, \\  0\\right) : 6.73293751880959 \\cdot 10^{-6}, \\  \\left( 2, \\  0, \\  0, \\  0, \\  0, \\  0\\right) : -1.76164567269855 \\cdot 10^{-6}\\right\\}, \\  \\left\\{ \\left( 0, \\  0, \\  0, \\  0, \\  0, \\  1\\right) : 0.000233116962348445, \\  \\left( 0, \\  0, \\  0, \\  0, \\  1, \\  0\\right) : -0.000927325521002059, \\  \\left( 0, \\  0, \\  0, \\  1, \\  0, \\  0\\right) : -0.00078354600156416, \\  \\left( 0, \\  0, \\  1, \\  0, \\  0, \\  0\\right) : -0.0233116962348445, \\  \\left( 0, \\  1, \\  0, \\  0, \\  0, \\  0\\right) : 0.0927325521002059, \\  \\left( 1, \\  0, \\  0, \\  0, \\  0, \\  0\\right) : 0.078354600156416\\right\\}, \\  \\left\\{ \\left( 0, \\  0, \\  0, \\  0, \\  0, \\  1\\right) : -0.000136089122187865, \\  \\left( 0, \\  0, \\  0, \\  0, \\  1, \\  0\\right) : -5.7789839505809 \\cdot 10^{-5}, \\  \\left( 0, \\  0, \\  0, \\  1, \\  0, \\  0\\right) : -0.000583450076165329, \\  \\left( 0, \\  0, \\  1, \\  0, \\  0, \\  0\\right) : 0.0136089122187865, \\  \\left( 0, \\  1, \\  0, \\  0, \\  0, \\  0\\right) : 0.0057789839505809, \\  \\left( 1, \\  0, \\  0, \\  0, \\  0, \\  0\\right) : 0.0583450076165329\\right\\}, \\  \\left\\{ \\left( 0, \\  0, \\  0, \\  0, \\  0, \\  1\\right) : 0.000825741400596919, \\  \\left( 0, \\  0, \\  0, \\  0, \\  1, \\  0\\right) : 0.000857927883604226, \\  \\left( 0, \\  0, \\  0, \\  1, \\  0, \\  0\\right) : -0.000851193276585322, \\  \\left( 0, \\  0, \\  1, \\  0, \\  0, \\  0\\right) : -0.0825741400596919, \\  \\left( 0, \\  1, \\  0, \\  0, \\  0, \\  0\\right) : -0.0857927883604226, \\  \\left( 1, \\  0, \\  0, \\  0, \\  0, \\  0\\right) : 0.0851193276585322\\right\\}\\right]$"
      ],
      "text/plain": [
       "[{(0, 0, 0, 0, 0, 0): 0.0019240475738571, (0, 0, 0, 0, 0, 1): 0.00041334173232\n",
       "6764, (0, 0, 0, 0, 1, 0): -0.00143546107993353, (0, 0, 0, 1, 0, 0): -0.0008058\n",
       "06308214608, (0, 0, 1, 0, 0, 0): -0.0270311237029534, (0, 0, 1, 0, 0, 1): 2.35\n",
       "468193349544e-8, (0, 0, 1, 0, 1, 0): -5.50422820693557e-8, (0, 0, 1, 1, 0, 0):\n",
       " 2.88031777369224e-8, (0, 0, 2, 0, 0, 0): -1.17734096674772e-6, (0, 1, 0, 0, 0\n",
       ", 0): 0.0866494209249828, (0, 1, 0, 0, 0, 1): -5.50422820693554e-8, (0, 1, 0, \n",
       "0, 1, 0): 1.28665055449976e-7, (0, 1, 0, 1, 0, 0): -6.73293751880963e-8, (0, 1\n",
       ", 1, 0, 0, 0): 5.50422820693553e-6, (0, 2, 0, 0, 0, 0): -6.43325277249881e-6, \n",
       "(1, 0, 0, 0, 0, 0): 0.032505633805855, (1, 0, 0, 0, 0, 1): 2.88031777369223e-8\n",
       ", (1, 0, 0, 0, 1, 0): -6.73293751880963e-8, (1, 0, 0, 1, 0, 0): 3.523291345397\n",
       "1e-8, (1, 0, 1, 0, 0, 0): -2.88031777369224e-6, (1, 1, 0, 0, 0, 0): 6.73293751\n",
       "880959e-6, (2, 0, 0, 0, 0, 0): -1.76164567269855e-6}, {(0, 0, 0, 0, 0, 1): 0.0\n",
       "00233116962348445, (0, 0, 0, 0, 1, 0): -0.000927325521002059, (0, 0, 0, 1, 0, \n",
       "0): -0.00078354600156416, (0, 0, 1, 0, 0, 0): -0.0233116962348445, (0, 1, 0, 0\n",
       ", 0, 0): 0.0927325521002059, (1, 0, 0, 0, 0, 0): 0.078354600156416}, {(0, 0, 0\n",
       ", 0, 0, 1): -0.000136089122187865, (0, 0, 0, 0, 1, 0): -5.7789839505809e-5, (0\n",
       ", 0, 0, 1, 0, 0): -0.000583450076165329, (0, 0, 1, 0, 0, 0): 0.013608912218786\n",
       "5, (0, 1, 0, 0, 0, 0): 0.0057789839505809, (1, 0, 0, 0, 0, 0): 0.0583450076165\n",
       "329}, {(0, 0, 0, 0, 0, 1): 0.000825741400596919, (0, 0, 0, 0, 1, 0): 0.0008579\n",
       "27883604226, (0, 0, 0, 1, 0, 0): -0.000851193276585322, (0, 0, 1, 0, 0, 0): -0\n",
       ".0825741400596919, (0, 1, 0, 0, 0, 0): -0.0857927883604226, (1, 0, 0, 0, 0, 0)\n",
       ": 0.0851193276585322}]"
      ]
     },
     "execution_count": 192,
     "metadata": {},
     "output_type": "execute_result"
    }
   ],
   "source": [
    "coeff_dicts"
   ]
  },
  {
   "cell_type": "code",
   "execution_count": 193,
   "id": "9d1f1ac0-bde1-4676-bd0d-ca51efe8014c",
   "metadata": {},
   "outputs": [],
   "source": [
    "# {(0, 0, 0, 0, 0, 0):0.0019240475738571"
   ]
  },
  {
   "cell_type": "code",
   "execution_count": null,
   "id": "b281b0ab-0e50-4b97-8036-afb8e83a6a8d",
   "metadata": {},
   "outputs": [],
   "source": []
  }
 ],
 "metadata": {
  "kernelspec": {
   "display_name": "Python 3 (ipykernel)",
   "language": "python",
   "name": "python3"
  },
  "language_info": {
   "codemirror_mode": {
    "name": "ipython",
    "version": 3
   },
   "file_extension": ".py",
   "mimetype": "text/x-python",
   "name": "python",
   "nbconvert_exporter": "python",
   "pygments_lexer": "ipython3",
   "version": "3.9.9"
  }
 },
 "nbformat": 4,
 "nbformat_minor": 5
}
