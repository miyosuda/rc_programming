{
 "cells": [
  {
   "cell_type": "markdown",
   "id": "baedd42f-d44f-4b8c-b05b-9d7b17dc4fb0",
   "metadata": {},
   "source": [
    "## Symengineの検証"
   ]
  },
  {
   "cell_type": "code",
   "execution_count": 18,
   "id": "75f8248e-7fe0-4ced-842b-90b55ac7ca84",
   "metadata": {},
   "outputs": [],
   "source": [
    "import symengine as sm\n",
    "import sympy as smp\n",
    "import numpy as np\n",
    "import itertools\n",
    "import math\n",
    "from functools import cmp_to_key"
   ]
  },
  {
   "cell_type": "code",
   "execution_count": 2,
   "id": "0a79dcb8-e736-4ad5-866d-e9b6816900d3",
   "metadata": {},
   "outputs": [],
   "source": [
    "def g(x):\n",
    "    return sm.tanh(x)\n",
    "\n",
    "def dg(x):\n",
    "    return 1 - sm.tanh(x) * sm.tanh(x)\n",
    "\n",
    "def dg_np(x):\n",
    "    return 1 - np.tanh(x) * np.tanh(x)\n",
    "\n",
    "def ddg(x):\n",
    "    return 2 * (sm.tanh(x) * sm.tanh(x) - 1) * sm.tanh(x)"
   ]
  },
  {
   "cell_type": "code",
   "execution_count": 3,
   "id": "2481a64f-1138-4b21-9bc4-d51b78467b66",
   "metadata": {},
   "outputs": [],
   "source": [
    "# https://stackoverflow.com/questions/22857162/multivariate-taylor-approximation-in-sympy\n",
    "\n",
    "def mv_series(function_expression, \n",
    "              variable_list, \n",
    "              evaluation_point, \n",
    "              degree):\n",
    "    \"\"\" Multivariate version of sympy series \"\"\"\n",
    "    \n",
    "    n_var = len(variable_list)\n",
    "    \n",
    "    # dict of variables and their evaluation_point coordinates, ready for the subs() method\n",
    "    point_coordinates = {i : j for i, j in zip(variable_list, evaluation_point) }\n",
    "    \n",
    "    # list with exponents of the partial derivatives\n",
    "    deriv_orders = list(itertools.product(range(degree + 1), repeat=n_var))\n",
    "    \n",
    "    # Discarding some higher-order terms\n",
    "    deriv_orders = [deriv_orders[i] for i in range(len(deriv_orders)) if sum(deriv_orders[i]) <= degree]\n",
    "    n_terms = len(deriv_orders)\n",
    "    \n",
    "    # same as before, but now ready for the diff() method\n",
    "    deriv_orders_as_input = [list(sum(list(zip(variable_list, deriv_orders[i])), ())) for i in range(n_terms)]\n",
    "    \n",
    "    polynomial = 0\n",
    "    for i in range(n_terms):\n",
    "        partial_derivatives_at_point = function_expression.diff(*deriv_orders_as_input[i]).subs(point_coordinates)\n",
    "        # e.g. df/(dx*dy**2) evaluated at (x0,y0)\n",
    "        \n",
    "        denominator = math.prod([math.factorial(j) for j in deriv_orders[i]])\n",
    "        # e.g. (1! * 2!)\n",
    "        \n",
    "        distances_powered = math.prod([(sm.Matrix(variable_list) - sm.Matrix(evaluation_point))[j] ** deriv_orders[i][j] for j in range(n_var)])  \n",
    "        # e.g. (x-x0)*(y-y0)**2\n",
    "        \n",
    "        polynomial += partial_derivatives_at_point / denominator * distances_powered\n",
    "    return polynomial\n"
   ]
  },
  {
   "cell_type": "code",
   "execution_count": 4,
   "id": "0aee2071-dd00-41f9-84cf-1c6c4600891b",
   "metadata": {},
   "outputs": [],
   "source": [
    "x_dim = 3\n",
    "r_dim = 4\n",
    "#r_dim = 100"
   ]
  },
  {
   "cell_type": "code",
   "execution_count": 5,
   "id": "06167ac3-b361-4317-a9ee-c09fd2dc9755",
   "metadata": {},
   "outputs": [],
   "source": [
    "# Symbols\n",
    "\n",
    "x_list = [sm.Symbol(f'x_{i}') for i in range(x_dim)]\n",
    "x_dot_list = [sm.Symbol('\\dot{x}_' + f'{i}') for i in range(x_dim)]\n",
    "\n",
    "x = sm.Matrix([[x_i] for x_i in x_list])\n",
    "x_dot = sm.Matrix([[x_dot_i] for x_dot_i in x_dot_list])"
   ]
  },
  {
   "cell_type": "code",
   "execution_count": 6,
   "id": "fe87f91e-702d-4112-9fae-23431fa9d6e9",
   "metadata": {},
   "outputs": [
    {
     "name": "stdout",
     "output_type": "stream",
     "text": [
      "A_scale=inf\n"
     ]
    },
    {
     "name": "stderr",
     "output_type": "stream",
     "text": [
      "/var/folders/g8/lw05g79s3yv331w4vf305fkh0000gn/T/ipykernel_60961/506138365.py:4: RuntimeWarning: divide by zero encountered in double_scalars\n",
      "  return rho / cur_spectral_radius\n"
     ]
    }
   ],
   "source": [
    "# Concrete values\n",
    "def calc_scale_with_spectral_radius(mat, rho):\n",
    "    cur_spectral_radius = max(abs(np.linalg.eigvals(mat)))\n",
    "    return rho / cur_spectral_radius\n",
    "\n",
    "rng = np.random.RandomState(0)\n",
    "\n",
    "r_s_np = rng.uniform(low=-0.5, high=0.5, size=(r_dim, 1))\n",
    "\n",
    "x_s_np = np.zeros((x_dim, 1))\n",
    "\n",
    "B_scale = 0.1\n",
    "B_np = (rng.uniform(low=-1.0, high=1.0, size=(r_dim, x_dim)) * B_scale)\n",
    "\n",
    "A_np = rng.uniform(low=-1.0, high=1.0, size=(r_dim, r_dim))\n",
    "sparsify = np.vectorize(lambda v: v if rng.random() < 0.05 else 0.0)\n",
    "A_np = sparsify(A_np)\n",
    "\n",
    "rho = 0.01\n",
    "A_scale = calc_scale_with_spectral_radius(A_np, rho)\n",
    "print(f'A_scale={A_scale}')\n",
    "#A_np = A_np * A_scale\n",
    "\n",
    "d_np = np.zeros((r_dim, 1))\n",
    "\n",
    "d_s_np = A_np @ r_s_np + d_np\n",
    "\n",
    "ArBxd_np = A_np @ r_s_np + B_np @ x_s_np + d_s_np\n",
    "\n",
    "# numpyはshapeがあっていなくてもアダマール積が可能なので利用\n",
    "A_s_np = dg_np(ArBxd_np) * A_np - np.eye(r_dim)\n",
    "\n",
    "A_s_inv_np = np.linalg.inv(A_s_np)"
   ]
  },
  {
   "cell_type": "code",
   "execution_count": 7,
   "id": "570aa002-f75a-4e52-b6a6-fdb68c865e78",
   "metadata": {},
   "outputs": [],
   "source": [
    "def to_sm_matrix(np_mat):\n",
    "    return sm.Matrix(np_mat.tolist())\n",
    "\n",
    "B       = to_sm_matrix(B_np)\n",
    "d_s     = to_sm_matrix(d_s_np)\n",
    "r_s     = to_sm_matrix(r_s_np)\n",
    "A_s_inv = to_sm_matrix(A_s_inv_np)\n",
    "A       = to_sm_matrix(A_np)\n",
    "gamma   = 100"
   ]
  },
  {
   "cell_type": "code",
   "execution_count": 8,
   "id": "30562abc-2575-481f-825f-bc9f2f15bc0a",
   "metadata": {},
   "outputs": [],
   "source": [
    "Bx_d_s = B * x + d_s\n",
    "\n",
    "expr0 = Bx_d_s.applyfunc(dg).multiply_elementwise(A * r_s)\n",
    "expr1 = Bx_d_s.applyfunc(g)\n",
    "expr2 = Bx_d_s.applyfunc(ddg).multiply_elementwise(A * r_s)\n",
    "expr3 = Bx_d_s.applyfunc(dg)\n",
    "\n",
    "expr2_3 = (expr2 - expr3).multiply_elementwise(B * x_dot)\n",
    "\n",
    "expr = A_s_inv * (expr0 - expr1) + (1 / gamma) * (A_s_inv * A_s_inv) * expr2_3\n",
    "\n",
    "x_zero = [0] * x_dim\n",
    "x_dot_zero = [0] * x_dim\n",
    "\n",
    "degree = 2"
   ]
  },
  {
   "cell_type": "code",
   "execution_count": 9,
   "id": "319348cd-67bf-4b2b-b32d-70fc31d5095a",
   "metadata": {},
   "outputs": [],
   "source": [
    "def get_poly_dict(p, var_list):\n",
    "    \"\"\" \n",
    "    When making poly symengine expression, error occurs with var list arguemnt poly(expr, var_list),\n",
    "    so we made workaround to reorder coeffs.\n",
    "    \"\"\"\n",
    "    def reoder_key(key, indices):\n",
    "        ret = [-1] * len(var_list)\n",
    "        for i,k in enumerate(key):\n",
    "            ret[indices[i]] = k\n",
    "        return tuple(ret)\n",
    "    \n",
    "    poly_vars = p.args[1:]\n",
    "    indices = []\n",
    "    for v in var_list:\n",
    "        index = poly_vars.index(v)\n",
    "        indices.append(index)\n",
    "    d = p.as_dict()\n",
    "    new_d = {}\n",
    "    for key,value in d.items():\n",
    "        new_key = reoder_key(key, indices)\n",
    "        new_d[new_key] = value\n",
    "    return new_d"
   ]
  },
  {
   "cell_type": "code",
   "execution_count": 19,
   "id": "a31353ae-1eb6-4ae6-b334-925e2b964c3f",
   "metadata": {},
   "outputs": [],
   "source": [
    "def compare(a, b):\n",
    "    if a == b: \n",
    "        return 0\n",
    "    if a > b:\n",
    "        return 1\n",
    "    else:\n",
    "        return -1\n",
    "\n",
    "def compare_degrees(degrees0, degrees1):\n",
    "    def find_first_hit_pos(degrees):\n",
    "        for i,degree in enumerate(degrees):\n",
    "            if degree != 0:\n",
    "                return i\n",
    "        return -1\n",
    "    \n",
    "    var_size = len(degrees0) // 2\n",
    "\n",
    "    xs0 = degrees0[:var_size]\n",
    "    xs1 = degrees1[:var_size]    \n",
    "    xdots0 = degrees0[var_size:]    \n",
    "    xdots1 = degrees1[var_size:]\n",
    "    \n",
    "    x_max_degree0 = max(xs0)\n",
    "    x_max_degree1 = max(xs1)\n",
    "    xdot_max_degree0 = max(xdots0)\n",
    "    xdot_max_degree1 = max(xdots1)\n",
    "    \n",
    "    x_sum_degree0 = sum(xs0)\n",
    "    x_sum_degree1 = sum(xs1)    \n",
    "    xdot_sum_degree0 = sum(xdots0)\n",
    "    xdot_sum_degree1 = sum(xdots1)\n",
    "    \n",
    "    x_first_hit0 = find_first_hit_pos(xs0)\n",
    "    x_first_hit1 = find_first_hit_pos(xs1)\n",
    "    xdot_first_hit0 = find_first_hit_pos(xdots0)\n",
    "    xdot_first_hit1 = find_first_hit_pos(xdots1)\n",
    "    \n",
    "    ret = compare(xdot_sum_degree0, xdot_sum_degree1)\n",
    "    if ret != 0:\n",
    "        return ret\n",
    "    \n",
    "    ret = compare(x_sum_degree0, x_sum_degree1)\n",
    "    if ret != 0:\n",
    "        return ret    \n",
    "    \n",
    "    ret = compare(x_first_hit0, x_first_hit1)\n",
    "    if ret != 0:\n",
    "        return ret\n",
    "        \n",
    "    ret = compare(x_max_degree0, x_max_degree1)\n",
    "    if ret != 0:\n",
    "        return -ret\n",
    "        \n",
    "    ret = compare(xdot_sum_degree0, xdot_sum_degree1)\n",
    "    if ret != 0:\n",
    "        return ret    \n",
    "    \n",
    "    ret = compare(xdot_first_hit0, xdot_first_hit1)\n",
    "    if ret != 0:\n",
    "        return ret    \n",
    "        \n",
    "    ret = compare(xdot_max_degree0, xdot_max_degree1)\n",
    "    if ret != 0:\n",
    "        return -ret\n",
    "        \n",
    "    return 0\n"
   ]
  },
  {
   "cell_type": "code",
   "execution_count": 22,
   "id": "bb77c75e-4d63-4723-be63-d5cf34d541e9",
   "metadata": {
    "tags": []
   },
   "outputs": [
    {
     "name": "stdout",
     "output_type": "stream",
     "text": [
      "CPU times: user 25.7 ms, sys: 2.2 ms, total: 28 ms\n",
      "Wall time: 28.1 ms\n"
     ]
    }
   ],
   "source": [
    "%%time\n",
    "\n",
    "coeff_dicts = []\n",
    "\n",
    "for r_index in range(r_dim):\n",
    "    r_ex = mv_series(expr[r_index,0], \n",
    "                     x_list + x_dot_list, \n",
    "                     x_zero + x_dot_zero, \n",
    "                     degree)\n",
    "                 \n",
    "    # ここはsympyを使う\n",
    "    #p_c = smp.poly(r_ex, xs + x_dots)\n",
    "    #coeff_dicts.append(p_c.as_dict())\n",
    "    p_c = smp.poly(r_ex)\n",
    "    coeff_dicts.append(get_poly_dict(p_c, x_list + x_dot_list))"
   ]
  },
  {
   "cell_type": "code",
   "execution_count": 23,
   "id": "395e61a3-899b-44da-bf08-5d6e5897b29a",
   "metadata": {},
   "outputs": [],
   "source": [
    "degrees_sets = set()\n",
    "\n",
    "for coeff_dict in coeff_dicts:\n",
    "    for degrees in coeff_dict.keys():\n",
    "        degrees_sets.add(degrees)"
   ]
  },
  {
   "cell_type": "code",
   "execution_count": 24,
   "id": "4f37f634-f413-43c0-a523-2cd16fd26d2b",
   "metadata": {},
   "outputs": [
    {
     "data": {
      "text/plain": [
       "[(0, 0, 0, 0, 0, 0),\n",
       " (1, 0, 0, 0, 0, 0),\n",
       " (0, 1, 0, 0, 0, 0),\n",
       " (0, 0, 1, 0, 0, 0),\n",
       " (2, 0, 0, 0, 0, 0),\n",
       " (1, 1, 0, 0, 0, 0),\n",
       " (1, 0, 1, 0, 0, 0),\n",
       " (0, 2, 0, 0, 0, 0),\n",
       " (0, 1, 1, 0, 0, 0),\n",
       " (0, 0, 2, 0, 0, 0),\n",
       " (0, 0, 0, 1, 0, 0),\n",
       " (0, 0, 0, 0, 1, 0),\n",
       " (0, 0, 0, 0, 0, 1),\n",
       " (1, 0, 0, 1, 0, 0),\n",
       " (1, 0, 0, 0, 1, 0),\n",
       " (1, 0, 0, 0, 0, 1),\n",
       " (0, 1, 0, 1, 0, 0),\n",
       " (0, 1, 0, 0, 1, 0),\n",
       " (0, 1, 0, 0, 0, 1),\n",
       " (0, 0, 1, 1, 0, 0),\n",
       " (0, 0, 1, 0, 1, 0),\n",
       " (0, 0, 1, 0, 0, 1)]"
      ]
     },
     "execution_count": 24,
     "metadata": {},
     "output_type": "execute_result"
    }
   ],
   "source": [
    "degrees_list = sorted(list(degrees_sets), key=cmp_to_key(compare_degrees))\n",
    "\n",
    "degrees_list  "
   ]
  },
  {
   "cell_type": "code",
   "execution_count": 46,
   "id": "c12e70c8-ccc2-4ddb-9d12-126f152d040d",
   "metadata": {},
   "outputs": [],
   "source": [
    "all_coeffs = []\n",
    "\n",
    "for coeff_dict in coeff_dicts:\n",
    "    coeffs = []\n",
    "    for degrees in degrees_list:\n",
    "\n",
    "        if degrees in coeff_dict:\n",
    "            coeffs.append(coeff_dict[degrees])\n",
    "        else:\n",
    "            coeffs.append(0)            \n",
    "    all_coeffs.append(coeffs)\n",
    "        \n",
    "all_coeffs = np.array(all_coeffs, dtype=np.float64)"
   ]
  },
  {
   "cell_type": "code",
   "execution_count": 50,
   "id": "db1a879f-02d1-4014-82f2-c77f99960d2a",
   "metadata": {},
   "outputs": [],
   "source": [
    "target_coeff_dicts = [{\n",
    "    (0,1,0,0,0,0):1.0,\n",
    "},\n",
    "{\n",
    "    (1,0,0,0,0,0):1.0,\n",
    "},\n",
    "{\n",
    "    (0,0,1,0,0,0):1.0,\n",
    "}\n",
    "]\n",
    "\n",
    "target_coeffs = []\n",
    "\n",
    "for coeff_dict in target_coeff_dicts:\n",
    "    coeffs = []\n",
    "    for degrees in degrees_list:\n",
    "\n",
    "        if degrees in coeff_dict:\n",
    "            coeffs.append(coeff_dict[degrees])\n",
    "        else:\n",
    "            coeffs.append(0)            \n",
    "    target_coeffs.append(coeffs)\n",
    "        \n",
    "target_coeffs = np.array(target_coeffs, dtype=np.float64)"
   ]
  },
  {
   "cell_type": "code",
   "execution_count": 58,
   "id": "aa908346-73ed-467d-b868-4319770913ef",
   "metadata": {},
   "outputs": [],
   "source": [
    "W = target_coeffs @ np.linalg.pinv(all_coeffs)"
   ]
  },
  {
   "cell_type": "code",
   "execution_count": 60,
   "id": "3a521673-aeb4-48d3-a03c-678b926bc3e5",
   "metadata": {},
   "outputs": [
    {
     "data": {
      "text/plain": [
       "array([[-1.33005774,  9.35845135, -6.93921182, -3.35022129],\n",
       "       [-1.12383559,  1.98866049, 12.39526223,  1.84933361],\n",
       "       [ 0.33435834, -7.77705128, 20.05779229, -6.71732794]])"
      ]
     },
     "execution_count": 60,
     "metadata": {},
     "output_type": "execute_result"
    }
   ],
   "source": [
    "W"
   ]
  },
  {
   "cell_type": "code",
   "execution_count": null,
   "id": "d905910a-af1c-4468-9ac7-9bf0d5b6894e",
   "metadata": {},
   "outputs": [],
   "source": []
  }
 ],
 "metadata": {
  "kernelspec": {
   "display_name": "Python 3 (ipykernel)",
   "language": "python",
   "name": "python3"
  },
  "language_info": {
   "codemirror_mode": {
    "name": "ipython",
    "version": 3
   },
   "file_extension": ".py",
   "mimetype": "text/x-python",
   "name": "python",
   "nbconvert_exporter": "python",
   "pygments_lexer": "ipython3",
   "version": "3.9.9"
  }
 },
 "nbformat": 4,
 "nbformat_minor": 5
}
