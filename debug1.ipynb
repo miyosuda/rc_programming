{
 "cells": [
  {
   "cell_type": "markdown",
   "id": "baedd42f-d44f-4b8c-b05b-9d7b17dc4fb0",
   "metadata": {},
   "source": [
    "## Symengineの検証"
   ]
  },
  {
   "cell_type": "code",
   "execution_count": 2,
   "id": "75f8248e-7fe0-4ced-842b-90b55ac7ca84",
   "metadata": {},
   "outputs": [],
   "source": [
    "import symengine as sm\n",
    "import numpy as np\n",
    "import itertools"
   ]
  },
  {
   "cell_type": "code",
   "execution_count": 218,
   "id": "7d442dc3-ca76-43ec-8a73-2cb7e4bf00ba",
   "metadata": {},
   "outputs": [],
   "source": [
    "sm.init_printing()"
   ]
  },
  {
   "cell_type": "code",
   "execution_count": 4,
   "id": "0a79dcb8-e736-4ad5-866d-e9b6816900d3",
   "metadata": {},
   "outputs": [],
   "source": [
    "def g(x):\n",
    "    return sm.tanh(x)\n",
    "\n",
    "def dg(x):\n",
    "    return 1 - sm.tanh(x) * sm.tanh(x)\n",
    "\n",
    "def dg_np(x):\n",
    "    return 1 - np.tanh(x) * np.tanh(x)\n",
    "\n",
    "def ddg(x):\n",
    "    return 2 * (sm.tanh(x) * sm.tanh(x) - 1) * sm.tanh(x)"
   ]
  },
  {
   "cell_type": "code",
   "execution_count": 210,
   "id": "2481a64f-1138-4b21-9bc4-d51b78467b66",
   "metadata": {},
   "outputs": [],
   "source": [
    "# https://stackoverflow.com/questions/22857162/multivariate-taylor-approximation-in-sympy\n",
    "\n",
    "import scipy\n",
    "\n",
    "def mv_series(function_expression, \n",
    "              variable_list, \n",
    "              evaluation_point, \n",
    "              degree):\n",
    "    \n",
    "    n_var = len(variable_list)\n",
    "    \n",
    "    # list of tuples with variables and their evaluation_point coordinates, ready for the subs() method\n",
    "    #point_coordinates = [(i, j) for i, j in (zip(variable_list, evaluation_point))]\n",
    "    point_coordinates = {i : j for i, j in zip(variable_list, evaluation_point) }\n",
    "    \n",
    "    # list with exponents of the partial derivatives\n",
    "    deriv_orders = list(itertools.product(range(degree + 1), repeat=n_var))\n",
    "    \n",
    "    # Discarding some higher-order terms\n",
    "    deriv_orders = [deriv_orders[i] for i in range(len(deriv_orders)) if sum(deriv_orders[i]) <= degree]\n",
    "    n_terms = len(deriv_orders)\n",
    "    \n",
    "    # same as before, but now ready for the diff() method\n",
    "    deriv_orders_as_input = [list(sum(list(zip(variable_list, deriv_orders[i])), ())) for i in range(n_terms)]\n",
    "    \n",
    "    polynomial = 0\n",
    "    for i in range(n_terms):\n",
    "        partial_derivatives_at_point = function_expression.diff(*deriv_orders_as_input[i]).subs(point_coordinates)\n",
    "        # e.g. df/(dx*dy**2) evaluated at (x0,y0)\n",
    "        \n",
    "        #denominator = sm.prod([sm.factorial(j) for j in deriv_orders[i]])    \n",
    "        denominator = np.prod([scipy.special.factorial(j) for j in deriv_orders[i]]) \n",
    "        # e.g. (1! * 2!)\n",
    "        \n",
    "        distances_powered = np.prod([(sm.Matrix(variable_list) - sm.Matrix(evaluation_point))[j] ** deriv_orders[i][j] for j in range(n_var)])  \n",
    "        # e.g. (x-x0)*(y-y0)**2\n",
    "        \n",
    "        polynomial += partial_derivatives_at_point / denominator * distances_powered\n",
    "    return polynomial\n"
   ]
  },
  {
   "cell_type": "code",
   "execution_count": 254,
   "id": "0aee2071-dd00-41f9-84cf-1c6c4600891b",
   "metadata": {},
   "outputs": [],
   "source": [
    "x_dim = 3\n",
    "r_dim = 4\n",
    "#r_dim = 100"
   ]
  },
  {
   "cell_type": "code",
   "execution_count": 255,
   "id": "06167ac3-b361-4317-a9ee-c09fd2dc9755",
   "metadata": {},
   "outputs": [],
   "source": [
    "# Symbols\n",
    "\n",
    "xs = [sm.Symbol(f'x_{i}') for i in range(x_dim)]\n",
    "x_dots = [sm.Symbol('\\dot{x}_' + f'{i}') for i in range(x_dim)]\n",
    "\n",
    "x = sm.Matrix([[x_i] for x_i in xs])\n",
    "x_dot = sm.Matrix([[x_dot_i] for x_dot_i in x_dots])"
   ]
  },
  {
   "cell_type": "code",
   "execution_count": 256,
   "id": "fe87f91e-702d-4112-9fae-23431fa9d6e9",
   "metadata": {},
   "outputs": [
    {
     "name": "stdout",
     "output_type": "stream",
     "text": [
      "A_scale=inf\n"
     ]
    },
    {
     "name": "stderr",
     "output_type": "stream",
     "text": [
      "/var/folders/g8/lw05g79s3yv331w4vf305fkh0000gn/T/ipykernel_49296/3414892641.py:4: RuntimeWarning: divide by zero encountered in double_scalars\n",
      "  return rho / cur_spectral_radius\n"
     ]
    }
   ],
   "source": [
    "# Concrete values\n",
    "def calc_scale_with_spectral_radius(mat, rho):\n",
    "    cur_spectral_radius = max(abs(np.linalg.eigvals(mat)))\n",
    "    return rho / cur_spectral_radius\n",
    "\n",
    "rng = np.random.RandomState(0)\n",
    "\n",
    "r_s_np = rng.uniform(low=-0.5, high=0.5, size=(r_dim, 1))\n",
    "r_s_c = sm.Matrix(r_s_np.tolist())\n",
    "\n",
    "x_s_np = np.zeros((x_dim, 1))\n",
    "x_s_c = sm.Matrix(x_s_np.tolist())\n",
    "\n",
    "B_scale = 0.1\n",
    "B_np = (rng.uniform(low=-1.0, high=1.0, size=(r_dim, x_dim)) * B_scale)\n",
    "B_c = sm.Matrix(B_np.tolist())\n",
    "\n",
    "A_np = rng.uniform(low=-1.0, high=1.0, size=(r_dim, r_dim))\n",
    "sparsify = np.vectorize(lambda v: v if rng.random() < 0.05 else 0.0)\n",
    "A_np = sparsify(A_np)\n",
    "\n",
    "rho = 0.01\n",
    "A_scale = calc_scale_with_spectral_radius(A_np, rho)\n",
    "print(f'A_scale={A_scale}')\n",
    "#A_np = A_np * A_scale\n",
    "\n",
    "A_c = sm.Matrix(A_np.tolist())\n",
    "\n",
    "d_np = np.zeros((r_dim, 1))\n",
    "\n",
    "#d_c = sm.Matrix().tolist())                \n",
    "#d_s_c = A_c * r_s_c + d_c\n",
    "\n",
    "d_s_np = A_np @ r_s_np + d_np\n",
    "\n",
    "d_s_c = sm.Matrix(d_s_np.tolist())\n",
    "\n",
    "ArBxd_np = A_np @ r_s_np + B_np @ x_s_np + d_s_np\n",
    "\n",
    "#ArBxd_c = A_c * r_s_c + B_c * x_s_c + d_s_c\n",
    "# 要素積のためにshapeを合わせておく\n",
    "#ArBxd_c_rep = sm.Matrix.hstack(*[ArBxd_c for _ in range(r_dim)])\n",
    "\n",
    "#A_s_c = sm.hadamard_product(ArBxd_c_rep.applyfunc(dg), A_c) - sm.eye(r_dim)\n",
    "\n",
    "# numpyはshapeがあっていなくてもアダマール積が可能なので利用\n",
    "A_s_np = dg_np(ArBxd_np) * A_np - np.eye(r_dim)\n",
    "\n",
    "A_s_inv_np = np.linalg.inv(A_s_np)\n",
    "\n",
    "A_s_inv_c = sm.Matrix(A_s_inv_np.tolist())\n",
    "\n",
    "gamma_c = 100"
   ]
  },
  {
   "cell_type": "code",
   "execution_count": 257,
   "id": "570aa002-f75a-4e52-b6a6-fdb68c865e78",
   "metadata": {},
   "outputs": [],
   "source": [
    "B       = B_c\n",
    "d_s     = d_s_c\n",
    "r_s     = r_s_c\n",
    "A_s_inv = A_s_inv_c\n",
    "A       = A_c\n",
    "gamma   = gamma_c"
   ]
  },
  {
   "cell_type": "code",
   "execution_count": 258,
   "id": "30562abc-2575-481f-825f-bc9f2f15bc0a",
   "metadata": {},
   "outputs": [],
   "source": [
    "expr0 = (B * x + d_s).applyfunc(dg).multiply_elementwise(A * r_s)\n",
    "expr1 = (B * x + d_s).applyfunc(g)\n",
    "expr2 = (B * x + d_s).applyfunc(ddg).multiply_elementwise(A * r_s)\n",
    "expr3 = (B * x + d_s).applyfunc(dg)\n",
    "\n",
    "expr2_3 = (expr2 - expr3).multiply_elementwise(B * x_dot)\n",
    "\n",
    "expr = A_s_inv * (expr0 - expr1) + (1 / gamma) * (A_s_inv * A_s_inv) * expr2_3\n",
    "\n",
    "x_zero = [0] * x_dim\n",
    "x_dot_zero = [0] * x_dim\n",
    "\n",
    "degree = 2"
   ]
  },
  {
   "cell_type": "code",
   "execution_count": 259,
   "id": "bb77c75e-4d63-4723-be63-d5cf34d541e9",
   "metadata": {
    "tags": []
   },
   "outputs": [
    {
     "name": "stdout",
     "output_type": "stream",
     "text": [
      "0.00192404757385711 - 0.000805806308214608*\\dot{x}_0 - 0.00143546107993353*\\dot{x}_1 + 0.000413341732326764*\\dot{x}_2 + 0.032505633805855*x_0 + 0.0866494209249828*x_1 - 0.0270311237029534*x_2 + 3.52329134539711e-08*x_0*\\dot{x}_0 - 6.73293751880961e-08*x_0*\\dot{x}_1 + 2.88031777369224e-08*x_0*\\dot{x}_2 - 2.88031777369224e-06*x_0*x_2 - 6.73293751880959e-08*x_1*\\dot{x}_0 + 1.28665055449976e-07*x_1*\\dot{x}_1 - 5.50422820693554e-08*x_1*\\dot{x}_2 + 6.73293751880959e-06*x_1*x_0 + 5.50422820693555e-06*x_1*x_2 + 2.88031777369224e-08*x_2*\\dot{x}_0 - 5.50422820693554e-08*x_2*\\dot{x}_1 + 2.35468193349544e-08*x_2*\\dot{x}_2 - 1.76164567269855e-06*x_0**2 - 6.43325277249881e-06*x_1**2 - 1.17734096674772e-06*x_2**2\n",
      "defaultdict(<class 'int'>, {1: 0.00192404757385711, \\dot{x}_0: -0.000805806308214608, x_0*\\dot{x}_2: 2.88031777369224e-08, x_2: -0.0270311237029534, x_2*\\dot{x}_0: 2.88031777369224e-08, x_0*\\dot{x}_0: 3.52329134539711e-08, x_2**2: -1.17734096674772e-06, x_1*\\dot{x}_0: -6.73293751880959e-08, x_1: 0.0866494209249828, x_1**2: -6.43325277249881e-06, \\dot{x}_2: 0.000413341732326764, x_1*\\dot{x}_2: -5.50422820693554e-08, x_0*\\dot{x}_1: -6.73293751880961e-08, x_1*x_2: 5.50422820693555e-06, x_1*x_0: 6.73293751880959e-06, x_0*x_2: -2.88031777369224e-06, x_2*\\dot{x}_1: -5.50422820693554e-08, \\dot{x}_1: -0.00143546107993353, x_2*\\dot{x}_2: 2.35468193349544e-08, x_1*\\dot{x}_1: 1.28665055449976e-07, x_0**2: -1.76164567269855e-06, x_0: 0.032505633805855})\n",
      "-0.00078354600156416*\\dot{x}_0 - 0.000927325521002059*\\dot{x}_1 + 0.000233116962348445*\\dot{x}_2 + 0.078354600156416*x_0 + 0.0927325521002059*x_1 - 0.0233116962348445*x_2\n",
      "defaultdict(<class 'int'>, {1: 0, \\dot{x}_0: -0.00078354600156416, x_2: -0.0233116962348445, \\dot{x}_2: 0.000233116962348445, x_0: 0.078354600156416, \\dot{x}_1: -0.000927325521002059, x_1: 0.0927325521002059})\n",
      "-0.000583450076165329*\\dot{x}_0 - 5.7789839505809e-05*\\dot{x}_1 - 0.000136089122187865*\\dot{x}_2 + 0.0583450076165329*x_0 + 0.0057789839505809*x_1 + 0.0136089122187865*x_2\n",
      "defaultdict(<class 'int'>, {1: 0, \\dot{x}_0: -0.000583450076165329, x_2: 0.0136089122187865, \\dot{x}_2: -0.000136089122187865, x_0: 0.0583450076165329, \\dot{x}_1: -5.7789839505809e-05, x_1: 0.0057789839505809})\n",
      "-0.000851193276585322*\\dot{x}_0 + 0.000857927883604226*\\dot{x}_1 + 0.000825741400596919*\\dot{x}_2 + 0.0851193276585322*x_0 - 0.0857927883604226*x_1 - 0.0825741400596919*x_2\n",
      "defaultdict(<class 'int'>, {1: 0, \\dot{x}_0: -0.000851193276585322, x_2: -0.0825741400596919, \\dot{x}_2: 0.000825741400596919, x_0: 0.0851193276585322, \\dot{x}_1: 0.000857927883604226, x_1: -0.0857927883604226})\n",
      "CPU times: user 30.6 ms, sys: 3.39 ms, total: 34 ms\n",
      "Wall time: 32.1 ms\n"
     ]
    }
   ],
   "source": [
    "%%time\n",
    "\n",
    "coeff_dicts = []\n",
    "\n",
    "for r_index in range(r_dim):\n",
    "    r_ex = mv_series(expr[r_index,0], \n",
    "                     xs + x_dots, \n",
    "                     x_zero + x_dot_zero, degree)\n",
    "    \n",
    "    print(r_ex)\n",
    "    print(r_ex.as_coefficients_dict())\n",
    "              \n",
    "    #p_c = sm.poly(r_ex, xs + x_dots).as_poly()\n",
    "    #coeff_dicts.append(p_c.as_dict())    \n"
   ]
  },
  {
   "cell_type": "code",
   "execution_count": null,
   "id": "8e10c55e-ba27-4337-9c60-570873cffe7a",
   "metadata": {},
   "outputs": [],
   "source": []
  }
 ],
 "metadata": {
  "kernelspec": {
   "display_name": "Python 3 (ipykernel)",
   "language": "python",
   "name": "python3"
  },
  "language_info": {
   "codemirror_mode": {
    "name": "ipython",
    "version": 3
   },
   "file_extension": ".py",
   "mimetype": "text/x-python",
   "name": "python",
   "nbconvert_exporter": "python",
   "pygments_lexer": "ipython3",
   "version": "3.9.9"
  }
 },
 "nbformat": 4,
 "nbformat_minor": 5
}
